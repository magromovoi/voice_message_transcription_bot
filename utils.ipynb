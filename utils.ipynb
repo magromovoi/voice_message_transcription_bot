{
 "cells": [
  {
   "cell_type": "code",
   "execution_count": 95,
   "outputs": [
    {
     "name": "stderr",
     "output_type": "stream",
     "text": [
      "Special tokens have been added in the vocabulary, make sure the associated word embeddings are fine-tuned or trained.\n"
     ]
    }
   ],
   "source": [
    "import numpy as np\n",
    "import torch\n",
    "from transformers.pipelines.audio_utils import ffmpeg_microphone_live\n",
    "import sys\n",
    "import time\n",
    "\n",
    "sampling_rate = 16_000\n",
    "chunk_length_s = 15.0\n",
    "stream_chunk_s = 0.5\n",
    "\n",
    "device = torch.device('cpu')\n",
    "\n",
    "# Use a pipeline as a high-level helper\n",
    "from transformers import pipeline\n",
    "\n",
    "pipe = pipeline(\"automatic-speech-recognition\", model=\"openai/whisper-large-v3\", device=device)"
   ],
   "metadata": {
    "collapsed": false,
    "ExecuteTime": {
     "end_time": "2024-04-29T16:00:19.841833Z",
     "start_time": "2024-04-29T16:00:09.792013Z"
    }
   },
   "id": "dbcaad76903ab108"
  },
  {
   "cell_type": "code",
   "execution_count": 99,
   "outputs": [
    {
     "name": "stdout",
     "output_type": "stream",
     "text": [
      "Speak\n"
     ]
    },
    {
     "name": "stderr",
     "output_type": "stream",
     "text": [
      "2024-04-29 21:04:39.444 ffmpeg[13413:1239775] WARNING: Add NSCameraUseContinuityCameraDeviceType to your Info.plist to use AVCaptureDeviceTypeContinuityCamera.\n"
     ]
    },
    {
     "name": "stdout",
     "output_type": "stream",
     "text": [
      "{'raw': array([ 0.02304289,  0.01860735,  0.01803362, ..., -0.09446149,\n",
      "       -0.09180866, -0.0828074 ], dtype=float32), 'stride': (0, 0), 'partial': True, 'sampling_rate': 16000}\n",
      "{'raw': array([0.02304289, 0.01860735, 0.01803362, ..., 0.05729355, 0.0669947 ,\n",
      "       0.08982977], dtype=float32), 'stride': (0, 0), 'partial': True, 'sampling_rate': 16000}\n",
      "{'raw': array([ 0.02304289,  0.01860735,  0.01803362, ..., -0.00366314,\n",
      "       -0.00261106, -0.00293571], dtype=float32), 'stride': (0, 0), 'partial': True, 'sampling_rate': 16000}\n",
      "{'raw': array([ 0.02304289,  0.01860735,  0.01803362, ..., -0.03033877,\n",
      "       -0.0239158 , -0.0196    ], dtype=float32), 'stride': (0, 0), 'partial': True, 'sampling_rate': 16000}\n",
      "{'raw': array([0.02304289, 0.01860735, 0.01803362, ..., 0.04278642, 0.04609641,\n",
      "       0.04711428], dtype=float32), 'stride': (0, 0), 'partial': True, 'sampling_rate': 16000}\n",
      "{'raw': array([0.02304289, 0.01860735, 0.01803362, ..., 0.07463108, 0.07831   ,\n",
      "       0.07993016], dtype=float32), 'stride': (0, 0), 'partial': True, 'sampling_rate': 16000}\n",
      "{'raw': array([ 0.02304289,  0.01860735,  0.01803362, ..., -0.05483327,\n",
      "       -0.07085405, -0.08521127], dtype=float32), 'stride': (0, 0), 'partial': True, 'sampling_rate': 16000}\n",
      "{'raw': array([0.02304289, 0.01860735, 0.01803362, ..., 0.05373744, 0.05210122,\n",
      "       0.04761255], dtype=float32), 'stride': (0, 0), 'partial': True, 'sampling_rate': 16000}\n",
      "{'raw': array([0.02304289, 0.01860735, 0.01803362, ..., 0.14755532, 0.16272739,\n",
      "       0.17481613], dtype=float32), 'stride': (0, 0), 'partial': True, 'sampling_rate': 16000}\n",
      "{'raw': array([0.02304289, 0.01860735, 0.01803362, ..., 0.11401683, 0.14829029,\n",
      "       0.17232768], dtype=float32), 'stride': (0, 0), 'partial': True, 'sampling_rate': 16000}\n",
      "{'raw': array([ 0.02304289,  0.01860735,  0.01803362, ..., -0.01291608,\n",
      "       -0.00557028, -0.0006168 ], dtype=float32), 'stride': (0, 0), 'partial': True, 'sampling_rate': 16000}\n",
      "{'raw': array([ 0.02304289,  0.01860735,  0.01803362, ..., -0.03426409,\n",
      "       -0.03555397, -0.03326344], dtype=float32), 'stride': (0, 0), 'partial': True, 'sampling_rate': 16000}\n",
      "{'raw': array([ 0.02304289,  0.01860735,  0.01803362, ..., -0.1668382 ,\n",
      "       -0.16522089, -0.15825066], dtype=float32), 'stride': (0, 0), 'partial': True, 'sampling_rate': 16000}\n",
      "{'raw': array([0.02304289, 0.01860735, 0.01803362, ..., 0.0833517 , 0.08370429,\n",
      "       0.09094092], dtype=float32), 'stride': (0, 0), 'partial': True, 'sampling_rate': 16000}\n",
      "{'raw': array([0.02304289, 0.01860735, 0.01803362, ..., 0.00721547, 0.00878856,\n",
      "       0.00872056], dtype=float32), 'stride': (0, 0), 'partial': True, 'sampling_rate': 16000}\n",
      "{'raw': array([ 0.02304289,  0.01860735,  0.01803362, ..., -0.02033418,\n",
      "       -0.05000693, -0.02397522], dtype=float32), 'stride': (0, 0), 'partial': True, 'sampling_rate': 16000}\n",
      "{'raw': array([ 0.02304289,  0.01860735,  0.01803362, ..., -0.02117851,\n",
      "       -0.01466305, -0.0122428 ], dtype=float32), 'stride': (0, 0), 'partial': True, 'sampling_rate': 16000}\n",
      "{'raw': array([ 0.02304289,  0.01860735,  0.01803362, ..., -0.00591152,\n",
      "       -0.00125752, -0.0005906 ], dtype=float32), 'stride': (0, 0), 'partial': True, 'sampling_rate': 16000}\n",
      "{'raw': array([0.02304289, 0.01860735, 0.01803362, ..., 0.10010092, 0.0955277 ,\n",
      "       0.09515743], dtype=float32), 'stride': (0, 0), 'partial': True, 'sampling_rate': 16000}\n",
      "{'raw': array([ 0.02304289,  0.01860735,  0.01803362, ..., -0.00570521,\n",
      "       -0.00175798,  0.00198498], dtype=float32), 'stride': (0, 0), 'partial': True, 'sampling_rate': 16000}\n",
      "{'raw': array([ 0.02304289,  0.01860735,  0.01803362, ..., -0.01719501,\n",
      "       -0.01878858, -0.01501041], dtype=float32), 'stride': (0, 0), 'partial': True, 'sampling_rate': 16000}\n",
      "{'raw': array([0.02304289, 0.01860735, 0.01803362, ..., 0.01262498, 0.0136872 ,\n",
      "       0.01343161], dtype=float32), 'stride': (0, 0), 'partial': True, 'sampling_rate': 16000}\n",
      "{'raw': array([ 0.02304289,  0.01860735,  0.01803362, ..., -0.01022113,\n",
      "       -0.01510817, -0.01789412], dtype=float32), 'stride': (0, 0), 'partial': True, 'sampling_rate': 16000}\n",
      "{'raw': array([ 0.02304289,  0.01860735,  0.01803362, ..., -0.02922077,\n",
      "       -0.02611624, -0.01857926], dtype=float32), 'stride': (0, 0), 'partial': True, 'sampling_rate': 16000}\n",
      "{'raw': array([ 0.02304289,  0.01860735,  0.01803362, ..., -0.03898781,\n",
      "       -0.04313095, -0.03879117], dtype=float32), 'stride': (0, 0), 'partial': True, 'sampling_rate': 16000}\n",
      "{'raw': array([ 0.02304289,  0.01860735,  0.01803362, ...,  0.0266735 ,\n",
      "        0.00885707, -0.01812769], dtype=float32), 'stride': (0, 0), 'partial': True, 'sampling_rate': 16000}\n",
      "{'raw': array([ 0.02304289,  0.01860735,  0.01803362, ..., -0.05164285,\n",
      "       -0.062334  , -0.07353939], dtype=float32), 'stride': (0, 0), 'partial': True, 'sampling_rate': 16000}\n",
      "{'raw': array([ 0.02304289,  0.01860735,  0.01803362, ..., -0.08566157,\n",
      "       -0.05648226, -0.03694885], dtype=float32), 'stride': (0, 0), 'partial': True, 'sampling_rate': 16000}\n",
      "{'raw': array([0.02304289, 0.01860735, 0.01803362, ..., 0.04061625, 0.04029831,\n",
      "       0.03901561], dtype=float32), 'stride': (0, 0), 'partial': True, 'sampling_rate': 16000}\n",
      "{'raw': array([ 0.02304289,  0.01860735,  0.01803362, ..., -0.00869357,\n",
      "       -0.00120209,  0.00832184], dtype=float32), 'stride': (0, 40000), 'partial': False, 'sampling_rate': 16000}\n",
      "Stop\n"
     ]
    },
    {
     "data": {
      "text/plain": "{'text': ' если ему говорить он поймет это все ну скорее всего он там у меня пару раз не работал но так он вообще очень хороший сейчас он дослушает чуть-чуть наверное забыл что он какое-то время слушает'}"
     },
     "execution_count": 99,
     "metadata": {},
     "output_type": "execute_result"
    }
   ],
   "source": [
    "mic = ffmpeg_microphone_live(\n",
    "    sampling_rate=sampling_rate,\n",
    "    chunk_length_s=chunk_length_s,\n",
    "    stream_chunk_s=stream_chunk_s,\n",
    ")\n",
    "print('Speak')\n",
    "for item in mic:\n",
    "    # sys.stdout.write(\"\\033[K\")\n",
    "    print(item)\n",
    "    if not item[\"partial\"]:\n",
    "        break\n",
    "print('Stop')\n",
    "pipe(item['raw'])"
   ],
   "metadata": {
    "collapsed": false,
    "ExecuteTime": {
     "end_time": "2024-04-29T18:05:12.710661Z",
     "start_time": "2024-04-29T18:04:39.181550Z"
    }
   },
   "id": "929a7d530789d98a"
  }
 ],
 "metadata": {
  "kernelspec": {
   "display_name": "Python 3",
   "language": "python",
   "name": "python3"
  },
  "language_info": {
   "codemirror_mode": {
    "name": "ipython",
    "version": 2
   },
   "file_extension": ".py",
   "mimetype": "text/x-python",
   "name": "python",
   "nbconvert_exporter": "python",
   "pygments_lexer": "ipython2",
   "version": "2.7.6"
  }
 },
 "nbformat": 4,
 "nbformat_minor": 5
}
