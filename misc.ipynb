{
 "cells": [
  {
   "cell_type": "code",
   "execution_count": 13,
   "outputs": [],
   "source": [
    "import math\n",
    "\n",
    "import numpy as np\n",
    "\n",
    "def slow_ft(x):\n",
    "    \"\"\"\n",
    "    https://en.wikipedia.org/wiki/Discrete_Fourier_transform\n",
    "    \"\"\"\n",
    "    N = len(x)\n",
    "    if N % 2 == 0:\n",
    "        M = (N // 2) + 1\n",
    "    else:\n",
    "        M = (N + 1) // 2\n",
    "    X = []\n",
    "    for k in range(M):\n",
    "        X_k = sum(x[n] * math.e ** (-2j * math.pi * k / N * n) for n in range(N))\n",
    "        X.append(X_k)\n",
    "    X = np.array(X)\n",
    "    return X"
   ],
   "metadata": {
    "collapsed": false
   },
   "id": "e511ee5768a00206"
  },
  {
   "cell_type": "code",
   "execution_count": null,
   "outputs": [],
   "source": [
    "abs(librosa.stft(wave[:10000], n_fft=1024, hop_length=256, win_length=1024)) ** 2"
   ],
   "metadata": {
    "collapsed": false
   },
   "id": "c9d056d73aac5dcd"
  },
  {
   "cell_type": "code",
   "execution_count": null,
   "outputs": [],
   "source": [
    "sample_rate = 10000\n",
    "duration_seconds = 3\n",
    "times = np.linspace(0, duration_seconds, duration_seconds*sample_rate, dtype=np.float32)\n",
    "wave = (lambda t: 0.3*np.sin(2*np.pi*1000*t))(times)"
   ],
   "metadata": {
    "collapsed": false
   },
   "id": "698708f507e06778"
  },
  {
   "cell_type": "code",
   "execution_count": 10,
   "outputs": [],
   "source": [
    "l_spectrogram = librosa.stft(wave, n_fft=width, win_length=width, hop_length=step)"
   ],
   "metadata": {
    "collapsed": false
   },
   "id": "a84d4ab621dd9303"
  },
  {
   "cell_type": "code",
   "execution_count": null,
   "outputs": [],
   "source": [
    "times = np.linspace(0., duration_seconds, len(spectrogram), dtype=np.float32)\n"
   ],
   "metadata": {
    "collapsed": false
   },
   "id": "966d23b9ac63a4a9"
  },
  {
   "cell_type": "code",
   "execution_count": 62,
   "outputs": [],
   "source": [
    "# mel = librosa.filters.mel(sr=sample_rate, n_fft=width)\n",
    "# fig, ax = plt.subplots()\n",
    "# img = librosa.display.specshow(mel, x_axis='linear', ax=ax)\n",
    "# ax.set(ylabel='Mel filter', title='Mel filter bank')\n",
    "# fig.colorbar(img, ax=ax)"
   ],
   "metadata": {
    "collapsed": false
   },
   "id": "8acd6b6cada7fd1f"
  },
  {
   "cell_type": "code",
   "execution_count": null,
   "outputs": [],
   "source": [
    "sample_rate = None\n",
    "wave, sample_rate = librosa.load(Path.home() / 'Personal/Datasets/common_voice/ru/clips' / train_sample['path'], sr=sample_rate)\n",
    "\n",
    "\n",
    "n_fft = 2 ** 11\n",
    "hop_length = 2 ** 9\n",
    "\n",
    "mel_spec = melspectrogram(y=wave, sr=sample_rate, n_fft=n_fft, hop_length=hop_length)\n",
    "\n",
    "fig, ax = plt.subplots()\n",
    "img = librosa.display.specshow(\n",
    "    librosa.amplitude_to_db(mel_spec, ref=np.max),\n",
    "    ax=ax,\n",
    "    x_axis='time', \n",
    "    y_axis='mel',\n",
    "    sr=sample_rate,\n",
    "    hop_length=hop_length,\n",
    "    n_fft=n_fft,\n",
    ")\n",
    "fig.colorbar(img, format=\"%2.f dB\")\n",
    "plt.show()\n",
    "\n",
    "print(f\"text={train_sample['sentence']!r}\")\n",
    "print(f'{sample_rate=}')\n",
    "print(f'{n_fft=}')\n",
    "print(f'{hop_length=}')\n",
    "print(f'{mel_spec.shape=}')\n",
    "\n",
    "display(Audio(wave, rate=sample_rate))\n"
   ],
   "metadata": {
    "collapsed": false
   },
   "id": "5ea0dc45555e8e11"
  },
  {
   "cell_type": "code",
   "execution_count": null,
   "outputs": [],
   "source": [
    "text = 'Ворона каркнула во всё воронье горло \"Bazinga!\": сыр выпал — с ним была плутовка такова.'"
   ],
   "metadata": {
    "collapsed": false
   },
   "id": "41604aa826dd85f"
  },
  {
   "cell_type": "code",
   "execution_count": null,
   "outputs": [],
   "source": [
    "tokenizer.detokenize(tokenizer.tokenize(text))"
   ],
   "metadata": {
    "collapsed": false
   },
   "id": "7f9d85bd6edde633"
  },
  {
   "cell_type": "code",
   "execution_count": null,
   "outputs": [],
   "source": [
    "tokenizer.detokenize(separate_with_blanks(tokenizer.tokenize('грамм эссе длинношеее'), tokenizer.blank_idx))"
   ],
   "metadata": {
    "collapsed": false
   },
   "id": "ce228f913ccdab22"
  },
  {
   "cell_type": "code",
   "execution_count": 183,
   "outputs": [],
   "source": [
    "def show_mel_spec(mel_spec):\n",
    "    fig, ax = plt.subplots()\n",
    "    img = librosa.display.specshow(\n",
    "        librosa.amplitude_to_db(mel_spec, ref=np.max),\n",
    "        ax=ax,\n",
    "        x_axis='time', \n",
    "        y_axis='mel',\n",
    "        sr=config.sample_rate,\n",
    "        hop_length=config.hop_length,\n",
    "        n_fft=config.n_fft,\n",
    "    )\n",
    "    fig.colorbar(img, format=\"%2.f dB\")\n",
    "    plt.show()"
   ],
   "metadata": {
    "collapsed": false
   },
   "id": "d47282759a0e47f3"
  },
  {
   "cell_type": "code",
   "execution_count": null,
   "outputs": [],
   "source": [],
   "metadata": {
    "collapsed": false
   },
   "id": "d8eead5f407abb94"
  },
  {
   "cell_type": "code",
   "execution_count": 667,
   "outputs": [
    {
     "data": {
      "text/plain": "              t=0       t=1        t=2        t=3        t=4        t=5  \\\ns=0 '_' -3.913921 -7.628665 -11.665375 -15.305283 -19.038713 -22.618481   \ns=1 'п' -3.386168 -6.431006  -9.489754 -12.958710 -16.339771 -19.681587   \ns=2 '_'      -inf -7.100912 -10.054443 -12.679519 -15.849686 -18.951622   \ns=3 'о'      -inf -7.769303 -10.408983 -13.478849 -16.629652 -20.109749   \ns=4 '_'      -inf      -inf -11.806013 -13.827886 -16.678499 -19.540398   \ns=5 'э'      -inf      -inf -11.192840 -13.480217 -16.181820 -19.130629   \ns=6 '_'      -inf      -inf       -inf -14.832747 -16.983660 -19.391056   \n\n               t=6        t=7        t=8  \ns=0 '_'       -inf       -inf       -inf  \ns=1 'п' -23.040684       -inf       -inf  \ns=2 '_' -22.541119       -inf       -inf  \ns=3 'о' -22.959667 -26.390257       -inf  \ns=4 '_' -23.074781 -25.736990       -inf  \ns=5 'э' -22.031494 -25.176291 -28.198402  \ns=6 '_' -22.542080 -24.975969 -28.132086  ",
      "text/html": "<div>\n<style scoped>\n    .dataframe tbody tr th:only-of-type {\n        vertical-align: middle;\n    }\n\n    .dataframe tbody tr th {\n        vertical-align: top;\n    }\n\n    .dataframe thead th {\n        text-align: right;\n    }\n</style>\n<table border=\"1\" class=\"dataframe\">\n  <thead>\n    <tr style=\"text-align: right;\">\n      <th></th>\n      <th>t=0</th>\n      <th>t=1</th>\n      <th>t=2</th>\n      <th>t=3</th>\n      <th>t=4</th>\n      <th>t=5</th>\n      <th>t=6</th>\n      <th>t=7</th>\n      <th>t=8</th>\n    </tr>\n  </thead>\n  <tbody>\n    <tr>\n      <th>s=0 '_'</th>\n      <td>-3.913921</td>\n      <td>-7.628665</td>\n      <td>-11.665375</td>\n      <td>-15.305283</td>\n      <td>-19.038713</td>\n      <td>-22.618481</td>\n      <td>-inf</td>\n      <td>-inf</td>\n      <td>-inf</td>\n    </tr>\n    <tr>\n      <th>s=1 'п'</th>\n      <td>-3.386168</td>\n      <td>-6.431006</td>\n      <td>-9.489754</td>\n      <td>-12.958710</td>\n      <td>-16.339771</td>\n      <td>-19.681587</td>\n      <td>-23.040684</td>\n      <td>-inf</td>\n      <td>-inf</td>\n    </tr>\n    <tr>\n      <th>s=2 '_'</th>\n      <td>-inf</td>\n      <td>-7.100912</td>\n      <td>-10.054443</td>\n      <td>-12.679519</td>\n      <td>-15.849686</td>\n      <td>-18.951622</td>\n      <td>-22.541119</td>\n      <td>-inf</td>\n      <td>-inf</td>\n    </tr>\n    <tr>\n      <th>s=3 'о'</th>\n      <td>-inf</td>\n      <td>-7.769303</td>\n      <td>-10.408983</td>\n      <td>-13.478849</td>\n      <td>-16.629652</td>\n      <td>-20.109749</td>\n      <td>-22.959667</td>\n      <td>-26.390257</td>\n      <td>-inf</td>\n    </tr>\n    <tr>\n      <th>s=4 '_'</th>\n      <td>-inf</td>\n      <td>-inf</td>\n      <td>-11.806013</td>\n      <td>-13.827886</td>\n      <td>-16.678499</td>\n      <td>-19.540398</td>\n      <td>-23.074781</td>\n      <td>-25.736990</td>\n      <td>-inf</td>\n    </tr>\n    <tr>\n      <th>s=5 'э'</th>\n      <td>-inf</td>\n      <td>-inf</td>\n      <td>-11.192840</td>\n      <td>-13.480217</td>\n      <td>-16.181820</td>\n      <td>-19.130629</td>\n      <td>-22.031494</td>\n      <td>-25.176291</td>\n      <td>-28.198402</td>\n    </tr>\n    <tr>\n      <th>s=6 '_'</th>\n      <td>-inf</td>\n      <td>-inf</td>\n      <td>-inf</td>\n      <td>-14.832747</td>\n      <td>-16.983660</td>\n      <td>-19.391056</td>\n      <td>-22.542080</td>\n      <td>-24.975969</td>\n      <td>-28.132086</td>\n    </tr>\n  </tbody>\n</table>\n</div>"
     },
     "execution_count": 667,
     "metadata": {},
     "output_type": "execute_result"
    }
   ],
   "source": [
    "pd.DataFrame(alphas.T.detach(), \n",
    "             index=[f's={i} {t!r}' for i, t in enumerate(tokenizer.convert_ids_to_tokens(tokens))], \n",
    "             columns=[f't={i}' for i in range(n_chunks)])"
   ],
   "metadata": {
    "collapsed": false
   },
   "id": "2e6b7b751443850c"
  },
  {
   "cell_type": "code",
   "execution_count": null,
   "outputs": [],
   "source": [],
   "metadata": {
    "collapsed": false
   },
   "id": "6b1a2bc8fbe7ac34"
  },
  {
   "cell_type": "code",
   "execution_count": 1,
   "outputs": [],
   "source": [
    "cmu_to_ipa = {'aa': 'ɑ', 'ae': 'æ', 'ah': 'ə', 'ao': 'ɔ', 'aw': 'aʊ', 'ay': 'aɪ', 'b': 'b', 'ch': 'ʧ', \n",
    "              'd': 'd', 'dh': 'ð', 'eh': 'ɛ', 'er': 'ər', 'ey': 'eɪ', 'f': 'f', 'g': 'g', 'hh': 'h', 'ih': 'ɪ',\n",
    "              'iy': 'i', 'jh': 'ʤ', 'k': 'k', 'l': 'l', 'm': 'm', 'n': 'n', 'ng': 'ŋ', 'ow': 'oʊ', 'oy': 'ɔɪ',\n",
    "              'p': 'p', 'r': 'r', 's': 's', 'sh': 'ʃ', 't': 't', 'th': 'θ', 'uh': 'ʊ', 'uw': 'u', 'v': 'v',\n",
    "              'w': 'w', 'y': 'j', 'z': 'z', 'zh': 'ʒ'}\n",
    "ipa_to_cmu = {v: k for k, v in cmu_to_ipa.items()}\n",
    "cmu_to_rus = {'aa': 'а', 'ae': 'а', 'ah': 'э', 'ao': 'о', 'aw': 'ау', 'ay': 'ай', 'b': 'б', 'ch': 'ч', 'd': 'д',\n",
    "              'dh': 'з', 'eh': 'э', 'er': 'эр', 'ey': 'эй', 'f': 'ф', 'g': 'г', 'hh': 'х', 'ih': 'и', 'iy': 'и',\n",
    "              'jh': 'дж', 'k': 'к', 'l': 'л', 'm': 'м', 'n': 'н', 'ng': 'нг', 'ow': 'оу', 'oy': 'ой', 'p': 'п',\n",
    "              'r': 'р', 's': 'с', 'sh': 'ш', 't': 'т', 'th': 'с', 'uh': 'у', 'uw': 'у', 'v': 'в', 'w': 'у',\n",
    "              'y': 'й', 'z': 'з', 'zh': 'ж'}\n",
    "rus_to_cmu = {v: k for k, v in cmu_to_rus.items()}\n",
    "ipa_to_rus = {'ɑ': 'а', 'æ': 'а', 'ə': 'э', 'ɔ': 'о', 'aʊ': 'ау', 'aɪ': 'ай', 'b': 'б', 'ʧ': 'ч', 'd': 'д', \n",
    "              'ð': 'з', 'ɛ': 'э', 'ər': 'эр', 'eɪ': 'эй', 'f': 'ф', 'g': 'г', 'h': 'х', 'ɪ': 'и', 'i': 'и', \n",
    "              'ʤ': 'дж', 'k': 'к', 'l': 'л', 'm': 'м', 'n': 'н', 'ŋ': 'нг', 'oʊ': 'оу', 'ɔɪ': 'ой', 'p': 'п',\n",
    "              'r': 'р', 's': 'с', 'ʃ': 'ш', 't': 'т', 'θ': 'с', 'ʊ': 'у', 'u': 'у', 'v': 'в', 'w': 'у',\n",
    "              'j': 'й', 'z': 'з', 'ʒ': 'ж'}\n",
    "rus_to_ipa = {v: k for k, v in ipa_to_rus.items()}"
   ],
   "metadata": {
    "collapsed": false,
    "ExecuteTime": {
     "end_time": "2024-06-13T21:05:19.081045Z",
     "start_time": "2024-06-13T21:05:19.077608Z"
    }
   },
   "id": "405be273b6ebbee3"
  },
  {
   "cell_type": "code",
   "execution_count": null,
   "outputs": [],
   "source": [
    " # alphas [chunk, len_tokens] [t, s]\n",
    " # logprobs [chunk, i_token]"
   ],
   "metadata": {
    "collapsed": false
   },
   "id": "d2b169b36631c67"
  },
  {
   "cell_type": "code",
   "execution_count": null,
   "outputs": [],
   "source": [
    "    # n_chunks = int(sample_rate * max_duration_sec / hop_length)"
   ],
   "metadata": {
    "collapsed": false
   },
   "id": "f9d268f4b90930bf"
  },
  {
   "cell_type": "markdown",
   "source": [
    "`p_i` - probability\n",
    "`x_i = log(p_i)` - log-probability\n",
    "\n",
    "#### product of probs -> sum of log-probs\n",
    "```\n",
    "p = p_1 * p_2 * ... * p_n\n",
    "x = log(p) = log(p_1 * p_2 * ... * p_n) = log(p_1) + log(p_2) + ... + log(p_n) = x_1 + x_2 + ... + x_n\n",
    "```\n",
    "#### sum of probs -> LogSumExp of log-probs\n",
    "```\n",
    "p = p_1 + p_2 + ... + p_n\n",
    "x = log(p) = log(p_1 + p_2 + ... + p_n) =\n",
    "= log(exp(x_1) + exp(x_2) + ... + exp(x_n)) =: LogSumExp(x_1, x_2, ..., x_n) =\n",
    "= x_max + log(exp(x_1 - x_max) + exp(x_2 - x_max) + ... + exp(x_n - x_max))\n",
    "```"
   ],
   "metadata": {
    "collapsed": false
   },
   "id": "c0a2130108a537a6"
  },
  {
   "cell_type": "code",
   "execution_count": null,
   "outputs": [],
   "source": [
    "class Hypo:\n",
    "    def __init__(self, *, tokens: torch.Tensor, score: torch.Tensor):\n",
    "        self.tokens = tokens\n",
    "        self.score = score\n",
    "    def __repr__(self):\n",
    "        return f'{self.__class__.__name__}(text={self.text()!r}, tokens={self.tokens}, score={self.score})'\n",
    "    def text(self):\n",
    "        return tokenizer.detokenize(self.tokens.tolist())\n",
    "    def __add__(self, other):\n",
    "        return self.__class__(tokens=torch.cat([self.tokens, other.tokens]), score=(self.score + other.score))\n",
    "    \n",
    "def hypos_from_topk(topk):\n",
    "    hypos = [Hypo(tokens=topk.indices[i:i+1], score=topk.values[i]) for i in range(len(topk.indices))]\n",
    "    return hypos"
   ],
   "metadata": {
    "collapsed": false
   },
   "id": "e36f56233866bfd"
  }
 ],
 "metadata": {
  "kernelspec": {
   "display_name": "Python 3",
   "language": "python",
   "name": "python3"
  },
  "language_info": {
   "codemirror_mode": {
    "name": "ipython",
    "version": 2
   },
   "file_extension": ".py",
   "mimetype": "text/x-python",
   "name": "python",
   "nbconvert_exporter": "python",
   "pygments_lexer": "ipython2",
   "version": "2.7.6"
  }
 },
 "nbformat": 4,
 "nbformat_minor": 5
}
